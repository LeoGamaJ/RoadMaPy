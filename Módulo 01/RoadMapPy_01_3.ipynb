{
  "nbformat": 4,
  "nbformat_minor": 0,
  "metadata": {
    "colab": {
      "name": "RoadMapPy_01_3.ipynb",
      "provenance": [],
      "collapsed_sections": [],
      "authorship_tag": "ABX9TyOlJk8mpCqKQ6qTC4ta0gMF",
      "include_colab_link": true
    },
    "kernelspec": {
      "name": "python3",
      "display_name": "Python 3"
    },
    "language_info": {
      "name": "python"
    }
  },
  "cells": [
    {
      "cell_type": "markdown",
      "metadata": {
        "id": "view-in-github",
        "colab_type": "text"
      },
      "source": [
        "<a href=\"https://colab.research.google.com/github/LeoGamaJ/RoadMaPy/blob/main/RoadMapPy_01_3.ipynb\" target=\"_parent\"><img src=\"https://colab.research.google.com/assets/colab-badge.svg\" alt=\"Open In Colab\"/></a>"
      ]
    },
    {
      "cell_type": "markdown",
      "source": [
        "#**RoadMaPy** - Sintaxe Básica\n",
        "\n",
        "1. Sintaxe Básica\n",
        "\n",
        "  1.1 Regras\n",
        "\n",
        "  1.2 Comentários\n",
        "\n",
        "  1.3 print( )\n",
        "\n",
        "  1.4 Indentação\n",
        "\n"
      ],
      "metadata": {
        "id": "CZzVfHF3X-8X"
      }
    },
    {
      "cell_type": "markdown",
      "source": [
        "**1.1 Regras**\n",
        "\n",
        "Semântica:\n",
        "```\n",
        "variável = expressão\n",
        "```\n",
        "\n"
      ],
      "metadata": {
        "id": "CRuZQWnUYt88"
      }
    },
    {
      "cell_type": "code",
      "source": [
        "variável = \"Hello world!\"\n",
        "print(variável)"
      ],
      "metadata": {
        "id": "0GbaPFZiYh8L"
      },
      "execution_count": null,
      "outputs": []
    },
    {
      "cell_type": "code",
      "source": [
        "print(\"Hello world!\")"
      ],
      "metadata": {
        "colab": {
          "base_uri": "https://localhost:8080/"
        },
        "id": "V3nUXXAcZHXN",
        "outputId": "f9095271-ea58-494b-e87a-a42adf6dd53c"
      },
      "execution_count": null,
      "outputs": [
        {
          "output_type": "stream",
          "name": "stdout",
          "text": [
            "Hello world!\n"
          ]
        }
      ]
    },
    {
      "cell_type": "code",
      "source": [
        "total_alunos = 10\n",
        "print(total_alunos)"
      ],
      "metadata": {
        "id": "GyILeo4ca6Ma"
      },
      "execution_count": null,
      "outputs": []
    },
    {
      "cell_type": "markdown",
      "source": [
        "**Regras para criação de variáveis**\n",
        "\n",
        "\n",
        "\n",
        "\n"
      ],
      "metadata": {
        "id": "5nivKQdtgO2g"
      }
    },
    {
      "cell_type": "markdown",
      "source": [
        "**Palavras-Chaves**\n",
        "```\n",
        "and, as, assert, break, class, continue, def, del, elif, else, except, False, finally,\n",
        "for, from, global, if, import, in, is, lambda, None, nonlocal, not, or, pass, raise,\n",
        "return, True, try, while, with, yield\n",
        "```\n",
        "\n"
      ],
      "metadata": {
        "id": "3sK9NXwAgBmn"
      }
    },
    {
      "cell_type": "markdown",
      "source": [
        "**1.2 Comentários**\n",
        "\n"
      ],
      "metadata": {
        "id": "8mRc3HvgZS3n"
      }
    },
    {
      "cell_type": "code",
      "source": [
        "# Este é um exemplo de comentário\n",
        "variável = \"Hello world!\"\n",
        "print(variável)  "
      ],
      "metadata": {
        "colab": {
          "base_uri": "https://localhost:8080/"
        },
        "id": "c86bW3OSZW55",
        "outputId": "050e70c1-d034-4fd6-e365-f8221a3ea73b"
      },
      "execution_count": null,
      "outputs": [
        {
          "output_type": "stream",
          "name": "stdout",
          "text": [
            "Hello world!\n"
          ]
        }
      ]
    },
    {
      "cell_type": "code",
      "source": [
        "'''\n",
        "toda informação contida entre 3 aspas SIMPLES\n",
        "é considerada como caracteres que devem ser ignorados.\n",
        "'''"
      ],
      "metadata": {
        "id": "hIC8noU1ZZrq"
      },
      "execution_count": null,
      "outputs": []
    },
    {
      "cell_type": "markdown",
      "source": [
        "1.3 Indentação"
      ],
      "metadata": {
        "id": "sKEvy4cM2QvW"
      }
    },
    {
      "cell_type": "code",
      "source": [
        "x = 10\n",
        "\n",
        "if x > 8:\n",
        "   print(\"x é maior que 8\")"
      ],
      "metadata": {
        "id": "qNljyxbu2a9_"
      },
      "execution_count": null,
      "outputs": []
    }
  ]
}
