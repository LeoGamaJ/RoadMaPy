{
  "nbformat": 4,
  "nbformat_minor": 0,
  "metadata": {
    "colab": {
      "name": "RoadMaPy_02 - Tipos de Dados em Python.ipynb",
      "provenance": [],
      "collapsed_sections": [],
      "authorship_tag": "ABX9TyO3hg8M43nh4b7Oogkm5Eer",
      "include_colab_link": true
    },
    "kernelspec": {
      "name": "python3",
      "display_name": "Python 3"
    },
    "language_info": {
      "name": "python"
    }
  },
  "cells": [
    {
      "cell_type": "markdown",
      "metadata": {
        "id": "view-in-github",
        "colab_type": "text"
      },
      "source": [
        "<a href=\"https://colab.research.google.com/github/LeoGamaJ/RoadMaPy/blob/main/RoadMaPy_02_Tipos_de_Dados_em_Python.ipynb\" target=\"_parent\"><img src=\"https://colab.research.google.com/assets/colab-badge.svg\" alt=\"Open In Colab\"/></a>"
      ]
    },
    {
      "cell_type": "markdown",
      "source": [
        "Python RoadMap 02\n",
        "\n",
        "1. Diferença entre variáveis,valores e tipos.? \n",
        "\n",
        "2. Exibindo seus valores e tipos das variáveis na tela. (print() e type())\n",
        "\n",
        "3. Tipos de dados em Python\n",
        "  \n",
        "  3.1 String (str)\n",
        "\n",
        "  3.2 Inteiros (int) \n",
        "  \n",
        "  3.3 Ponto Flutuante ou Decimal (float)\n",
        "    \n",
        "  3.4 Tipo Complexo (complex) \n",
        "  \n",
        "  3.5 Boleanos (bool)\n",
        "  \n",
        "  3.6 Lista (list)\n",
        "  \n",
        "  3.7 Tuplas (tuple).\n",
        "    \n",
        "  3.8 Dictionary (dic)\n",
        "\n",
        "  3.9 Conjuntos (set)\n"
      ],
      "metadata": {
        "id": "oIptWe3JKmL5"
      }
    },
    {
      "cell_type": "markdown",
      "source": [
        "______________________________________________________________________________\n",
        "**1**. Diferença entre Variável, Valor e tipo.\n",
        "\n",
        "A ***variável*** armazena um ***valor***. E esse ***valor*** é determinado por um **tipo**. \n",
        "O ***valor*** é qualquer informação, seja um número, texto, música, vídeo e etc. O ***tipo*** por sua vez, é a estrutura da informação e a forma de classificarmos os dados.\n",
        "\n",
        "\n",
        "`Semântica: <variável> = <valor> `\n",
        "\n",
        "Ex.: \n",
        "```\n",
        "var_name = 'Hello World!'\n",
        "\n",
        "```\n",
        "Podemos exibir o **conteúdo** da variável através do comando `print()`\n",
        "\n",
        "Ex.:\n",
        "\n",
        "```\n",
        "print('var_name')\n",
        "```\n"
      ],
      "metadata": {
        "id": "36ps_f9J4dwh"
      }
    },
    {
      "cell_type": "code",
      "source": [
        "var_name = 'Hello World!'\n",
        "print(var_name)"
      ],
      "metadata": {
        "colab": {
          "base_uri": "https://localhost:8080/"
        },
        "id": "1fIINJAGXElA",
        "outputId": "f1f4c2c6-4bd2-46c0-b80a-4cc1f1d35cb0"
      },
      "execution_count": null,
      "outputs": [
        {
          "output_type": "stream",
          "name": "stdout",
          "text": [
            "Hello World\n"
          ]
        }
      ]
    },
    {
      "cell_type": "code",
      "source": [
        "# Segue exemplo de uma variável com valor atribuído\n",
        "\n",
        "número = 13\n",
        "\n",
        "# Exibindo em tela\n",
        "\n",
        "print(número)\n"
      ],
      "metadata": {
        "colab": {
          "base_uri": "https://localhost:8080/"
        },
        "id": "NZsg1tPzgg04",
        "outputId": "3c8edead-5c6a-498e-94f8-7c714ccdbb39"
      },
      "execution_count": null,
      "outputs": [
        {
          "output_type": "stream",
          "name": "stdout",
          "text": [
            "13\n"
          ]
        }
      ]
    },
    {
      "cell_type": "markdown",
      "source": [
        "• Nomes de variáveis podem conter apenas letras, números e underscores. Podem\n",
        "começar com uma letra ou um underscore, mas não com um número.\n",
        "\n",
        "• Espaços não são permitidos em nomes de variáveis, mas\n",
        "underscores podem ser usados para separar palavras em nomes de\n",
        "variáveis. \n",
        "\n",
        "• Evite usar palavras reservadas e nomes de funções em Python como\n",
        "nomes de variáveis, ou seja, não use palavras que Python reservou\n",
        "para um propósito particular de programação, por exemplo, a\n",
        "palavra print.\n",
        "\n",
        "• Nomes de variáveis devem ser concisos,\n",
        "porém descritivos.\n"
      ],
      "metadata": {
        "id": "3vNJ0vd0XpEQ"
      }
    },
    {
      "cell_type": "markdown",
      "source": [
        "________________________________________________\n",
        "1. Tipos de dados\n",
        "\n",
        "O tipo é uma forma de classificar as informação. As linguagens de programação normalmente trazem implementado o que é chamado de tipos primitivos, isto é, o tipo de dado mais genérico possível. Toda informação que manipularemos será, por definição, de um tipo.\n",
        "\n",
        "\n",
        "\n",
        "Podemos exibir o **tipo** do conteúdo da variável através do comando `type()`\n",
        "\n",
        "`Semântica: comando(argumento)`"
      ],
      "metadata": {
        "id": "KQe-1T8pLwhT"
      }
    },
    {
      "cell_type": "code",
      "source": [
        "# Descobrindo o tipo do valor da variável\n",
        "\n",
        "type(nome_variável)\n",
        "\n",
        "# Exibindo a variável e o tipo em tela\n",
        "\n",
        "print(type(nome_variável))"
      ],
      "metadata": {
        "id": "EDI509DVW7ch"
      },
      "execution_count": null,
      "outputs": []
    },
    {
      "cell_type": "code",
      "source": [
        "'''\n",
        "No exemplo abaixo estamos atribuindo a variáveis (valores a esquerda do sinal de igualdade = ), \n",
        "os valores que se encontram a direita do sinal de igualdade). \n",
        "\n",
        "Esses valores atribuídos são classificados por tipagem. \n",
        "'''\n",
        "\n",
        "x = \"Ana\"   # String: representa um conjunto de caracteres disposto numa determinada ordem.\n",
        "y = 13      # Int: Dados compostos por caracteres numéricos (algarismo). \n",
        "w = 1.3     # Float: Dados compostos por caracteres numéricos (algarismo) com pontos flutuantes.  \n",
        "z = 3 + 4j  # Complex: Letras, números e sinais. \n",
        "\n",
        "\n",
        "a = True    # Booleanos.\n",
        "b = False   # Booleanos."
      ],
      "metadata": {
        "id": "YOIrAI-DNHqc"
      },
      "execution_count": null,
      "outputs": []
    },
    {
      "cell_type": "code",
      "source": [
        "# No exemplo anterior determinamos as variáveis x, y, w, z, a e b. \n",
        "\n",
        "# print() nos exibe o que está contido na variável, o seu valor. \n",
        "\n",
        "print(x)\n",
        "print(y)\n",
        "print(w)\n",
        "print(z)\n",
        "print(a)\n",
        "\n",
        "# type() nos apresenta o tipo do valor da variável\n",
        "\n",
        "print(type(x))\n",
        "print(type(y))\n",
        "print(type(w))\n",
        "print(type(z))\n",
        "print(type(a))\n"
      ],
      "metadata": {
        "colab": {
          "base_uri": "https://localhost:8080/"
        },
        "id": "LxhVQ1q3TX5Z",
        "outputId": "41c122d9-aad8-4da3-ba1c-23280260add4"
      },
      "execution_count": null,
      "outputs": [
        {
          "output_type": "stream",
          "name": "stdout",
          "text": [
            "Ana\n",
            "13\n",
            "1.3\n",
            "(3+4j)\n",
            "Ana <class 'str'>\n",
            "<class 'int'>\n",
            "<class 'float'>\n",
            "<class 'complex'>\n"
          ]
        }
      ]
    },
    {
      "cell_type": "code",
      "source": [
        "# Podemos exibir esses dados incluindo mais de um argumento.  \n",
        "\n",
        "print (x, type(x))\n",
        "print (y, type(y))\n",
        "print (w, type(w))\n",
        "print (z, type(z))"
      ],
      "metadata": {
        "colab": {
          "base_uri": "https://localhost:8080/"
        },
        "id": "nCVL21HeUvRY",
        "outputId": "2ac6e02d-78d5-499f-9dc6-dc097847892f"
      },
      "execution_count": null,
      "outputs": [
        {
          "output_type": "stream",
          "name": "stdout",
          "text": [
            "Ana <class 'str'>\n",
            "13 <class 'int'>\n",
            "1.3 <class 'float'>\n",
            "(3+4j) <class 'complex'>\n"
          ]
        }
      ]
    },
    {
      "cell_type": "markdown",
      "source": [
        "\n",
        "Operadores Aritméticos\n",
        "\n",
        "```\n",
        "+\tsoma\n",
        "–\tsubtração\n",
        "*\tmultiplicação\n",
        "/\tdivisão\n",
        "//\tDivisão trunca a parte fracionaria\n",
        "%\t Produz o resto da divisão\n",
        "**\tExponenciação\n",
        "abs(x)\t     Retorna o valor absoluto de x\n",
        "pow(x, y)\t  O mesmo x**y\n",
        "round(x, n)\tRetorna um int ou float arredondado para n casas decimais se n for dado\n",
        "```\n",
        "\n"
      ],
      "metadata": {
        "id": "PbV7c8h8NIES"
      }
    },
    {
      "cell_type": "code",
      "source": [
        "# Operadores\n",
        "\n",
        "# Números inteiros\n",
        "x = 1\n",
        "y = 2\n",
        "resultado = x + y\n",
        "print(resultado)\n",
        "print(type(resultado))"
      ],
      "metadata": {
        "id": "RU5zcRMVMSvX"
      },
      "execution_count": null,
      "outputs": []
    },
    {
      "cell_type": "markdown",
      "source": [
        "Dividir entre numéricos e strings"
      ],
      "metadata": {
        "id": "MwxcR8mNyr0S"
      }
    },
    {
      "cell_type": "code",
      "execution_count": null,
      "metadata": {
        "colab": {
          "base_uri": "https://localhost:8080/"
        },
        "id": "XZ0wVbcEoFzW",
        "outputId": "1a34667b-330e-4b93-b0da-7977bae681ad"
      },
      "outputs": [
        {
          "output_type": "stream",
          "name": "stdout",
          "text": [
            "94760729332320\n"
          ]
        }
      ],
      "source": [
        "# Atribuição de valores\n",
        "\n",
        "# Semantica: <identificador> = <expressão>\n",
        "\n",
        "cateto_a = 4\n",
        "endereco = id(cateto_a)\n",
        "print(endereco)"
      ]
    },
    {
      "cell_type": "code",
      "source": [
        "# Posição de memória da variável\n",
        "\n",
        "hexa_endereco = hex(endereco)\n",
        "print(hexa_endereco)"
      ],
      "metadata": {
        "colab": {
          "base_uri": "https://localhost:8080/"
        },
        "id": "Dwt_R-gg586d",
        "outputId": "4a46cd62-e46e-4fef-b770-c7e84675c381"
      },
      "execution_count": null,
      "outputs": [
        {
          "output_type": "stream",
          "name": "stdout",
          "text": [
            "0x562f339c4a60\n"
          ]
        }
      ]
    },
    {
      "cell_type": "code",
      "source": [
        "a = 10\n",
        "print(a)\n",
        "print(id(a)) # "
      ],
      "metadata": {
        "colab": {
          "base_uri": "https://localhost:8080/"
        },
        "id": "775LD-ra5r0k",
        "outputId": "76b50aa8-a0fa-48e6-d923-dfd9c8824b96"
      },
      "execution_count": null,
      "outputs": [
        {
          "output_type": "stream",
          "name": "stdout",
          "text": [
            "10\n",
            "94760729332512\n"
          ]
        }
      ]
    },
    {
      "cell_type": "code",
      "source": [
        "b = 10\n",
        "print(a)\n",
        "print(id(a)) # "
      ],
      "metadata": {
        "colab": {
          "base_uri": "https://localhost:8080/"
        },
        "id": "SAx821ka6tAj",
        "outputId": "f0216cd4-3416-4b59-c520-0eb390c2d771"
      },
      "execution_count": null,
      "outputs": [
        {
          "output_type": "stream",
          "name": "stdout",
          "text": [
            "10\n",
            "94760729332512\n"
          ]
        }
      ]
    },
    {
      "cell_type": "code",
      "source": [
        "id(a) == id(b)"
      ],
      "metadata": {
        "colab": {
          "base_uri": "https://localhost:8080/"
        },
        "id": "IFH5eG-q7PPi",
        "outputId": "d8d2b36a-cad9-4e8f-f263-e2f17ba9f47d"
      },
      "execution_count": null,
      "outputs": [
        {
          "output_type": "execute_result",
          "data": {
            "text/plain": [
              "True"
            ]
          },
          "metadata": {},
          "execution_count": 14
        }
      ]
    },
    {
      "cell_type": "markdown",
      "source": [
        "Tipos\n"
      ],
      "metadata": {
        "id": "_8QXZCbv8KFg"
      }
    },
    {
      "cell_type": "code",
      "source": [
        "a = 5\n",
        "print(\"Tipo de dados de a: \", type(a))\n",
        "\n",
        "b= 5.0\n",
        "print(\"\\nTipo de dados de a: \", type(b))\n",
        "\n",
        "c = 2 + 4j\n",
        "print(\"\\nTipo de dados de a: \", type(c))\n",
        "\n",
        "d = \"Sport\"\n",
        "print(\"\\nTipo de dados de a: \", type(d))\n",
        "\n",
        "e = \"10\"\n",
        "print(\"\\nTipo de dados de a: \", type(e))"
      ],
      "metadata": {
        "colab": {
          "base_uri": "https://localhost:8080/"
        },
        "id": "EQnVp_hy8KeZ",
        "outputId": "1c11cb55-e31a-4f40-d326-656c98c83e40"
      },
      "execution_count": null,
      "outputs": [
        {
          "output_type": "stream",
          "name": "stdout",
          "text": [
            "Tipo de dados de a:  <class 'int'>\n",
            "\n",
            "Tipo de dados de a:  <class 'float'>\n",
            "\n",
            "Tipo de dados de a:  <class 'complex'>\n",
            "\n",
            "Tipo de dados de a:  <class 'str'>\n",
            "\n",
            "Tipo de dados de a:  <class 'str'>\n"
          ]
        }
      ]
    },
    {
      "cell_type": "markdown",
      "source": [
        "Strings\n",
        "\n",
        "São definidas pelas aspas"
      ],
      "metadata": {
        "id": "KnS3eeBjv48S"
      }
    },
    {
      "cell_type": "code",
      "source": [
        "strings1 = 'Esta é uma string'\n",
        "print(strings1)\n",
        "print(type(strings1))"
      ],
      "metadata": {
        "colab": {
          "base_uri": "https://localhost:8080/"
        },
        "id": "CWaG0g-Iv3cd",
        "outputId": "dd0a4e5f-7cec-4013-e9fb-e258dc07f6c1"
      },
      "execution_count": null,
      "outputs": [
        {
          "output_type": "stream",
          "name": "stdout",
          "text": [
            "Esta é uma string\n",
            "<class 'str'>\n"
          ]
        }
      ]
    },
    {
      "cell_type": "code",
      "source": [
        "n_inteiro = 100\n",
        "print(type(n_inteiro))\n",
        "\n",
        "string_de_inteiro = str(n_inteiro)\n",
        "print(type(string_de_inteiro))"
      ],
      "metadata": {
        "colab": {
          "base_uri": "https://localhost:8080/"
        },
        "id": "qBeXLOK1wfL9",
        "outputId": "865ac8aa-6263-468d-f2af-e819982651fc"
      },
      "execution_count": null,
      "outputs": [
        {
          "output_type": "stream",
          "name": "stdout",
          "text": [
            "<class 'int'>\n",
            "<class 'str'>\n"
          ]
        }
      ]
    },
    {
      "cell_type": "markdown",
      "source": [
        "_________________________________________________________________________\n",
        "\n",
        "Listas \n",
        "\n",
        "- Mutáveis\n",
        "- Podem Possuir vários tipos de elementos\n",
        "- Ordenadas\n",
        "- Começam com o indice [0]\n",
        "\n"
      ],
      "metadata": {
        "id": "yX7OXyv3y2Bx"
      }
    },
    {
      "cell_type": "code",
      "source": [
        "lista = []\n",
        "print(lista)\n",
        "print(type(lista))"
      ],
      "metadata": {
        "colab": {
          "base_uri": "https://localhost:8080/"
        },
        "id": "kI7xvw1NzcNz",
        "outputId": "f4ef24c5-d07b-43a3-d57d-54a6dcdafa91"
      },
      "execution_count": null,
      "outputs": [
        {
          "output_type": "stream",
          "name": "stdout",
          "text": [
            "[]\n",
            "<class 'list'>\n"
          ]
        }
      ]
    },
    {
      "cell_type": "code",
      "source": [
        "# Lista com string\n",
        "\n",
        "lista = ['Flamengo', 'Palmeiras', 'Cruzeiro']\n",
        "print(lista)\n",
        "print(lista[0])"
      ],
      "metadata": {
        "colab": {
          "base_uri": "https://localhost:8080/"
        },
        "id": "2XG34Oo3z77s",
        "outputId": "107a7399-4a65-47f6-e093-5a16b2cc3ff6"
      },
      "execution_count": null,
      "outputs": [
        {
          "output_type": "stream",
          "name": "stdout",
          "text": [
            "['Flamengo', 'Palmeiras', 'Cruzeiro']\n",
            "Flamengo\n"
          ]
        }
      ]
    },
    {
      "cell_type": "code",
      "source": [
        "# Listas de listas\n",
        "lista_2 = [['Flamengo', 'Palmeiras'], ['Cruzeiro', 'América']]\n",
        "print(lista_2)\n",
        "print(lista_2[0])\n",
        "print(lista_2[0][0])\n",
        "print(lista_2[1][0])"
      ],
      "metadata": {
        "colab": {
          "base_uri": "https://localhost:8080/"
        },
        "id": "ZRGSievtIC31",
        "outputId": "f42866f1-1d53-4d61-9ebf-fbb70b835e92"
      },
      "execution_count": null,
      "outputs": [
        {
          "output_type": "stream",
          "name": "stdout",
          "text": [
            "[['Flamengo', 'Palmeiras'], ['Cruzeiro', 'América']]\n",
            "['Flamengo', 'Palmeiras']\n",
            "Flamengo\n",
            "Cruzeiro\n"
          ]
        }
      ]
    },
    {
      "cell_type": "code",
      "source": [
        "# Diferente tipos\n",
        "\n",
        "lista_3 = [['Flamengo', 5, 'Palmeiras', 1], ['Cruzeiro', 1.5, 'América', 0.5]]\n",
        "print(lista_3)\n",
        "print(lista_3[0])\n",
        "print(lista_3[0][0])\n",
        "print(lista_3[1][0])"
      ],
      "metadata": {
        "colab": {
          "base_uri": "https://localhost:8080/"
        },
        "id": "8Z0W0GG3JLWu",
        "outputId": "d278bdeb-01d1-422f-ff37-1c716158f22b"
      },
      "execution_count": null,
      "outputs": [
        {
          "output_type": "stream",
          "name": "stdout",
          "text": [
            "[['Flamengo', 5, 'Palmeiras', 1], ['Cruzeiro', 1.5, 'América', 0.5]]\n",
            "['Flamengo', 5, 'Palmeiras', 1]\n",
            "Flamengo\n",
            "Cruzeiro\n"
          ]
        }
      ]
    },
    {
      "cell_type": "markdown",
      "source": [
        "Adicionando items na lista\n",
        ".append()\n",
        "\n"
      ],
      "metadata": {
        "id": "zQ_7bBTLJj2z"
      }
    },
    {
      "cell_type": "code",
      "source": [
        "lista_n = [1, 2, 3, 4, 5]\n",
        "print('Lista numérica: ', lista_n)\n"
      ],
      "metadata": {
        "colab": {
          "base_uri": "https://localhost:8080/"
        },
        "id": "7t463fqNJ2pq",
        "outputId": "f6f7cbf8-cabf-4145-f8b7-47072de8119e"
      },
      "execution_count": null,
      "outputs": [
        {
          "output_type": "stream",
          "name": "stdout",
          "text": [
            "Lista numérica:  [1, 2, 3, 4, 5]\n"
          ]
        }
      ]
    },
    {
      "cell_type": "code",
      "source": [
        "lista_n.append(6)\n",
        "print('Lista numérica: ', lista_n)\n",
        "\n",
        "lista_n.append('IGTI')\n",
        "print('Lista numérica: ', lista_n)"
      ],
      "metadata": {
        "colab": {
          "base_uri": "https://localhost:8080/"
        },
        "id": "HrJzGtBGKLwi",
        "outputId": "ee499eff-fe0a-41d7-9fe0-ed323f179003"
      },
      "execution_count": null,
      "outputs": [
        {
          "output_type": "stream",
          "name": "stdout",
          "text": [
            "Lista numérica:  [1, 2, 3, 4, 5, 6, 6]\n",
            "Lista numérica:  [1, 2, 3, 4, 5, 6, 6, 'IGTI']\n"
          ]
        }
      ]
    },
    {
      "cell_type": "code",
      "source": [
        "# Add itens em posição específica\n",
        "\n",
        "lista_cores = []\n",
        "lista_cores.append('Vermelho')\n",
        "lista_cores.append('Amarelo')\n",
        "lista_cores.append('Verde')\n",
        "print(\"Lista após adicionar as cores: \")\n",
        "print(lista_cores)\n",
        "print(\"-=\" * 30)\n",
        "\n",
        "print(f\"Lista após adicionar as cores: {lista_cores}\")\n",
        "\n"
      ],
      "metadata": {
        "colab": {
          "base_uri": "https://localhost:8080/"
        },
        "id": "4h51ZeioVqxz",
        "outputId": "8840fa2f-036d-4151-982d-ea786aed2ae7"
      },
      "execution_count": 5,
      "outputs": [
        {
          "output_type": "stream",
          "name": "stdout",
          "text": [
            "Lista após adicionar as cores: \n",
            "['Vermelho', 'Amarelo', 'Verde']\n",
            "-=-=-=-=-=-=-=-=-=-=-=-=-=-=-=-=-=-=-=-=-=-=-=-=-=-=-=-=-=-=\n",
            "Lista após adicionar as cores: ['Vermelho', 'Amarelo', 'Verde']\n"
          ]
        }
      ]
    },
    {
      "cell_type": "code",
      "source": [
        "# Excluindo elementos de listas\n",
        "list = [4, 6, 18, 4, 9, 11]\n",
        "\n",
        "print(\"List before calling remove() function:\")\n",
        "print(list)\n",
        "\n",
        "list.remove(18)\n",
        "\n",
        "print(\"List after calling remove() function:\")\n",
        "print(list)"
      ],
      "metadata": {
        "id": "8iFS3bk-axte",
        "colab": {
          "base_uri": "https://localhost:8080/"
        },
        "outputId": "3e98a957-04fd-4012-8503-0607d715e29c"
      },
      "execution_count": 13,
      "outputs": [
        {
          "output_type": "stream",
          "name": "stdout",
          "text": [
            "List before calling remove() function:\n",
            "[4, 6, 18, 4, 9, 11]\n",
            "List after calling remove() function:\n",
            "[4, 6, 4, 9, 11]\n"
          ]
        }
      ]
    },
    {
      "cell_type": "code",
      "source": [
        "list = [1, 4, 6, 2, 6, 1]\n",
        "\n",
        "print(\"List before calling del() function:\")\n",
        "print(list)\n",
        "\n",
        "del list[3]\n",
        "\n",
        "print(\"List after calling del() function:\")\n",
        "print(list)"
      ],
      "metadata": {
        "id": "OzkhixfG5pj7"
      },
      "execution_count": null,
      "outputs": []
    },
    {
      "cell_type": "code",
      "source": [
        "list = [1, 4, 6, 2, 6, 1]\n",
        "\n",
        "print(\"List before calling pop() function:\")\n",
        "print(list)\n",
        "list.pop(0)\n",
        "print(\"List after calling pop() function with index :\")\n",
        "print(list)\n",
        "list.pop()\n",
        "\n",
        "print(\"List after calling pop() function without index :\")\n",
        "print(list)"
      ],
      "metadata": {
        "id": "vp27EIQv5spb"
      },
      "execution_count": null,
      "outputs": []
    }
  ]
}
