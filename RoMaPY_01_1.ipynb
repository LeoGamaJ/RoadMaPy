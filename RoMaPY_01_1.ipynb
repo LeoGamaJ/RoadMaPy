{
  "nbformat": 4,
  "nbformat_minor": 0,
  "metadata": {
    "colab": {
      "name": "RoMaPY_01-1.ipynb",
      "provenance": [],
      "authorship_tag": "ABX9TyPdxZgCMB7+p2iOfnerbDmK",
      "include_colab_link": true
    },
    "kernelspec": {
      "name": "python3",
      "display_name": "Python 3"
    },
    "language_info": {
      "name": "python"
    }
  },
  "cells": [
    {
      "cell_type": "markdown",
      "metadata": {
        "id": "view-in-github",
        "colab_type": "text"
      },
      "source": [
        "<a href=\"https://colab.research.google.com/github/LeoGamaJ/RoadMaPy/blob/main/RoMaPY_01_1.ipynb\" target=\"_parent\"><img src=\"https://colab.research.google.com/assets/colab-badge.svg\" alt=\"Open In Colab\"/></a>"
      ]
    },
    {
      "cell_type": "markdown",
      "metadata": {
        "id": "_ewa0qFZrrOb"
      },
      "source": [
        "1 - Exibindo Dados\n",
        "  - Começamos exibindo dados na tela, para isso usamos o comando print()\n",
        "  - Sintaxe: \n",
        "\n",
        "  > print('mensagem')"
      ]
    },
    {
      "cell_type": "code",
      "metadata": {
        "colab": {
          "base_uri": "https://localhost:8080/"
        },
        "id": "L2i9--FFrhEN",
        "outputId": "75b21436-f26b-43b2-ae00-2555986bc002"
      },
      "source": [
        "print('Hello World')\n",
        "print(1)\n",
        "print(1.1)\n",
        "print(True)\n"
      ],
      "execution_count": null,
      "outputs": [
        {
          "output_type": "stream",
          "text": [
            "Hello World\n",
            "1\n",
            "1.1\n",
            "True\n"
          ],
          "name": "stdout"
        }
      ]
    },
    {
      "cell_type": "markdown",
      "metadata": {
        "id": "9bNJeIy6rqQr"
      },
      "source": [
        "2 - Definindo variáveis\n",
        "  \n",
        "  - Uma variável é um nome que se refere a um valor. Um comando de atribuição cria uma nova variável e lhe dá um valor. Variáveis são usadas para guardarmos valores que serão usados mais tarde no programa.\n",
        "  - Toda variável armazena um valor, que é a informação associada a essa variável.\n",
        "  - Podemos mudar o valor de uma variável em nosso programa a\n",
        "qualquer momento, e Python sempre manterá o controle do valor atual."
      ]
    },
    {
      "cell_type": "code",
      "metadata": {
        "colab": {
          "base_uri": "https://localhost:8080/"
        },
        "id": "B8kwuYyYtMXd",
        "outputId": "f22829c2-0de1-47f9-ad33-9653b8b8e2ea"
      },
      "source": [
        "mensagem = 'Hello, world!'\n",
        "\n",
        "print(mensagem)"
      ],
      "execution_count": null,
      "outputs": [
        {
          "output_type": "stream",
          "text": [
            "Hello, world!\n"
          ],
          "name": "stdout"
        }
      ]
    },
    {
      "cell_type": "code",
      "metadata": {
        "colab": {
          "base_uri": "https://localhost:8080/"
        },
        "id": "GNAzg6eou1Iv",
        "outputId": "b7da8290-526e-424e-f62b-1cf8ddc9ef53"
      },
      "source": [
        "mensagem = 'Hello, world!'\n",
        "print(mensagem)\n",
        "\n",
        "mensagem = 'Have a nice day!'\n",
        "print(mensagem)"
      ],
      "execution_count": null,
      "outputs": [
        {
          "output_type": "stream",
          "text": [
            "Hello, world!\n",
            "Have a nice day!\n"
          ],
          "name": "stdout"
        }
      ]
    },
    {
      "cell_type": "markdown",
      "metadata": {
        "id": "yaSszJyytzXn"
      },
      "source": [
        "- Regras para criar variáveis\n",
        "  - Nomes de variáveis podem conter apenas letras, números e underscores. Podem começar com uma letra ou um underscore, mas não com um número.\n",
        "  - Espaços não são permitidos em nomes de variáveis, mas\n",
        "underscores podem ser usados para separar palavras em nomes de\n",
        "variáveis.\n",
        "  - Evite usar palavras reservadas e nomes de funções em Python como\n",
        "nomes de variáveis, ou seja, não use palavras que Python reservou\n",
        "para um propósito particular de programação, por exemplo, a\n",
        "palavra print.\n",
        "  - Nomes de variáveis devem ser concisos, porém descritivos."
      ]
    },
    {
      "cell_type": "code",
      "metadata": {
        "id": "2pQ8QzN3vM9U"
      },
      "source": [
        "# Exemplo\n",
        "\n",
        "nome_1 = ' '\n",
        "CEP = "
      ],
      "execution_count": null,
      "outputs": []
    },
    {
      "cell_type": "markdown",
      "metadata": {
        "id": "EOt9EYiBvPUf"
      },
      "source": [
        "3 - Tipos de dados\n",
        "- Tipos de dados:\n",
        "  - String (str) = Palavras, letras\n",
        "  - inteiro (int) = Números inteiros\n",
        "  - ponto flutuante (float) = Números flutuantes\n",
        "  - booleano (bool) = Boleanos\n",
        "  - complexo (complex) = Complexos\n",
        "\n",
        "- Para exibir o tipo de dados em tela: \n",
        "  > type()\n",
        "\n",
        "  ou\n",
        "\n",
        "  > print(type())"
      ]
    },
    {
      "cell_type": "code",
      "metadata": {
        "colab": {
          "base_uri": "https://localhost:8080/"
        },
        "id": "KWLnO0H8xSOJ",
        "outputId": "169854e4-0c79-4457-dd81-577394d1c7f8"
      },
      "source": [
        "mensagem = ('Have a nice day!')\n",
        "print(mensagem)\n",
        "\n",
        "print(type(mensagem))\n",
        "\n",
        "# Por padrão, o print() vai gerar um dado do tipo String, e para isso a mensagem precisa estar envolvida por aspas, simples ou duplas. \n",
        "# É ideal especificar o tipo de arquivo que vamos estar lidando para que o interpretado não tenha dúvidas e provoque erros. "
      ],
      "execution_count": null,
      "outputs": [
        {
          "output_type": "stream",
          "text": [
            "Have a nice day!\n",
            "<class 'str'>\n"
          ],
          "name": "stdout"
        }
      ]
    },
    {
      "cell_type": "code",
      "metadata": {
        "colab": {
          "base_uri": "https://localhost:8080/"
        },
        "id": "qYfdk2-UH0vI",
        "outputId": "86de32d1-7457-4f47-9f8a-881ce1939c28"
      },
      "source": [
        "# Vamos resgatar o primeiro exemplo que usamos aqui com o print() e oservar o tipo de dados deles\n",
        "\n",
        "print(type('Hello World'))\n",
        "print(type(1))\n",
        "print(type(1.1))\n",
        "print(type(True))"
      ],
      "execution_count": null,
      "outputs": [
        {
          "output_type": "stream",
          "text": [
            "<class 'str'>\n",
            "<class 'int'>\n",
            "<class 'float'>\n",
            "<class 'bool'>\n"
          ],
          "name": "stdout"
        }
      ]
    },
    {
      "cell_type": "code",
      "metadata": {
        "colab": {
          "base_uri": "https://localhost:8080/"
        },
        "id": "OdZsKkWqLat2",
        "outputId": "9290db93-0b7d-4cdf-b933-340d5ee993e7"
      },
      "source": [
        "# \n",
        "\n",
        "nome = 'Jean Valjean'\n",
        "idade = 27\n",
        "altura = 1.90\n",
        "tipo_nome = type(nome)\n",
        "tipo_idade = type(idade)\n",
        "tipo_altura = type(altura)\n",
        "\n",
        "print(nome)\n",
        "print(tipo_nome)\n",
        "print(idade)\n",
        "print(tipo_idade)\n",
        "print(altura)\n",
        "print(tipo_altura)\n"
      ],
      "execution_count": null,
      "outputs": [
        {
          "output_type": "stream",
          "text": [
            "Jean Valjean\n",
            "<class 'str'>\n",
            "27\n",
            "<class 'int'>\n",
            "1.9\n",
            "<class 'float'>\n"
          ],
          "name": "stdout"
        }
      ]
    },
    {
      "cell_type": "markdown",
      "metadata": {
        "id": "wcDKv0NllsXX"
      },
      "source": [
        "- Vamos nos deter, por enquanto, nas variáveis tipo STRING\n",
        "- Strings podem ser definidos como coleções de sequencias de caracteres. Isto significa que assumimos que os caracteres individuais que compõem a cadeia estão em uma determinada ordem, da esquerda para a direita.\n",
        "- Devem ser determinados com aspas simples ' ' ou duplas \" \".\n"
      ]
    },
    {
      "cell_type": "code",
      "metadata": {
        "colab": {
          "base_uri": "https://localhost:8080/"
        },
        "id": "1u3SQr-mm123",
        "outputId": "bfcdcfd6-6d83-4ad2-b07c-718995927063"
      },
      "source": [
        "# Podemos fazer operações com strings\n",
        "\n",
        "nome = 'Ada'\n",
        "sobrenome = 'Lovelace'\n",
        "\n",
        "print(nome + sobrenome) \n",
        "\n",
        "# Note que desta vez usamos duas variáveis dentro de um print com o símbolo de +, processo esse que se chama concatenação\n",
        "# Repare que o resultado não saiu devidamente correto. O nome e sobrenome saíram juntos. \n",
        "# Fato que se deve a ausência do espaço que deveria ser incluído na variável nome, vejamos abaixo\n",
        "\n",
        "nome = 'Ada' \n",
        "sobrenome = 'Lovelace'\n",
        "\n",
        "print(nome + \" \" + sobrenome) # Aqui incluimos um espaço vazio entre as variáveis para que possamos ter um espaço entre elas\n",
        "\n",
        "# A concatenação pode (e deve, de preferência) ser concatenada com a vírgula.\n",
        "# Dessa forma, não precisaríamos incluir as aspas vazias no print.  \n",
        "print(nome,sobrenome)\n"
      ],
      "execution_count": null,
      "outputs": [
        {
          "output_type": "stream",
          "text": [
            "AdaLovelace\n",
            "Ada Lovelace\n",
            "Ada Lovelace\n"
          ],
          "name": "stdout"
        }
      ]
    },
    {
      "cell_type": "markdown",
      "metadata": {
        "id": "9G3ZGxbw1EVJ"
      },
      "source": [
        "- Usanod métodos para tratar strings\n"
      ]
    },
    {
      "cell_type": "code",
      "metadata": {
        "colab": {
          "base_uri": "https://localhost:8080/"
        },
        "id": "k-Wsmdr_2MMs",
        "outputId": "1448b77d-5a7a-453d-a9bd-8c8b5bf11f00"
      },
      "source": [
        "# Vamos a um exemplo de concatenação numa variável\n",
        "\n",
        "nome = 'Ada'\n",
        "sobrenome = 'Lovelace' \n",
        "idade = '27'\n",
        "\n",
        "exemplo1 = nome + ' ' + sobrenome + ' ' + idade \n",
        "print(exemplo1)\n",
        "print(type(exemplo1))\n",
        "\n",
        "print(\"Olá,\",nome, sobrenome,\"! Sua idade é\",idade,\".\"  )\n",
        "\n"
      ],
      "execution_count": null,
      "outputs": [
        {
          "output_type": "stream",
          "text": [
            "Ada Lovelace 27\n",
            "<class 'str'>\n",
            "Olá, Ada Lovelace ! Sua idade é 27 .\n"
          ],
          "name": "stdout"
        }
      ]
    },
    {
      "cell_type": "markdown",
      "metadata": {
        "id": "PdI4bc3llsUy"
      },
      "source": [
        "  "
      ]
    }
  ]
}