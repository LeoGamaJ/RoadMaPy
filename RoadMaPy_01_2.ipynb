{
  "nbformat": 4,
  "nbformat_minor": 0,
  "metadata": {
    "colab": {
      "name": "RoadMaPy_01-2.ipynb",
      "provenance": [],
      "collapsed_sections": [],
      "authorship_tag": "ABX9TyNMk2GEhJa+66kn27d1+hA6",
      "include_colab_link": true
    },
    "kernelspec": {
      "name": "python3",
      "display_name": "Python 3"
    },
    "language_info": {
      "name": "python"
    }
  },
  "cells": [
    {
      "cell_type": "markdown",
      "metadata": {
        "id": "view-in-github",
        "colab_type": "text"
      },
      "source": [
        "<a href=\"https://colab.research.google.com/github/LeoGamaJ/RoadMaPy/blob/main/RoadMaPy_01_2.ipynb\" target=\"_parent\"><img src=\"https://colab.research.google.com/assets/colab-badge.svg\" alt=\"Open In Colab\"/></a>"
      ]
    },
    {
      "cell_type": "markdown",
      "source": [
        "**RoadMaPy 01**\n",
        "\n",
        "* Exibindo dados em tela \n",
        "* Uso das aspas simples e compostas\n",
        "* Comentários\n",
        "* Tipos de Dados\n",
        "* Operadores"
      ],
      "metadata": {
        "id": "Mab5_KWi26OK"
      }
    },
    {
      "cell_type": "markdown",
      "metadata": {
        "id": "3zzN9x4gY8P4"
      },
      "source": [
        "01.1 \n",
        "- Exibindo Dados\n",
        "  - print()"
      ]
    },
    {
      "cell_type": "code",
      "metadata": {
        "colab": {
          "base_uri": "https://localhost:8080/"
        },
        "id": "7B1ykos_Y0EO",
        "outputId": "938c5c8b-5855-4679-8488-db5a43dca156"
      },
      "source": [
        "print(\"Hello World\")\n",
        "print(1)\n",
        "print(1.1)\n",
        "print(True)\n"
      ],
      "execution_count": null,
      "outputs": [
        {
          "output_type": "stream",
          "text": [
            "Hello World\n",
            "1\n",
            "1.1\n",
            "True\n"
          ],
          "name": "stdout"
        }
      ]
    },
    {
      "cell_type": "markdown",
      "source": [
        "01.2\n",
        "\n",
        "- Uso das aspas\n",
        "  \n",
        "  - Simples    ' ' \n",
        "  - Compostas  \" \"\n",
        "  - Ambas      \" ' ' \""
      ],
      "metadata": {
        "id": "XNj3Nh4O4AVt"
      }
    },
    {
      "cell_type": "code",
      "source": [
        "# Python diferencia aspas compostas e simples\n",
        "\n",
        "print(\"Hello World\")\n",
        "print('Hello World')\n",
        "\n",
        "# Usando aspas compostas e simples juntas\n",
        "\n",
        "print(\"Ensinando uso das aspas 'simples'\") "
      ],
      "metadata": {
        "colab": {
          "base_uri": "https://localhost:8080/"
        },
        "id": "k7udtg2f5dHb",
        "outputId": "686a2d58-b411-4ebf-bb43-a7ed4aa73348"
      },
      "execution_count": null,
      "outputs": [
        {
          "output_type": "stream",
          "name": "stdout",
          "text": [
            "Hello World\n",
            "Hello World\n",
            "Ensinando uso das aspas 'simples'\n"
          ]
        }
      ]
    },
    {
      "cell_type": "markdown",
      "source": [
        "01.3\n",
        "\n",
        "- Comentários\n",
        "  \n",
        "  - De linha  #\n",
        "  - De bloco  ''' '''"
      ],
      "metadata": {
        "id": "LY4fAIBY4lVA"
      }
    },
    {
      "cell_type": "code",
      "source": [
        ""
      ],
      "metadata": {
        "id": "6kBR5u9ehXaF"
      },
      "execution_count": null,
      "outputs": []
    },
    {
      "cell_type": "markdown",
      "metadata": {
        "id": "1rPvA0kQZTS5"
      },
      "source": [
        ""
      ]
    },
    {
      "cell_type": "code",
      "metadata": {
        "colab": {
          "base_uri": "https://localhost:8080/"
        },
        "id": "EDfF6aANaYip",
        "outputId": "fa34434d-4443-4b3c-d4cb-8266c077c83c"
      },
      "source": [
        "print(type(\"Hello World\"))    # Python entende que todo conteúdo envolvido por aspas é do tipo String\n",
        "print(type(1))\n",
        "print(type(1.1))\n",
        "print(type(True))\n",
        "# print(type())\n",
        "\n"
      ],
      "execution_count": null,
      "outputs": [
        {
          "output_type": "stream",
          "text": [
            "<class 'str'>\n",
            "<class 'int'>\n",
            "<class 'float'>\n",
            "<class 'bool'>\n"
          ],
          "name": "stdout"
        }
      ]
    },
    {
      "cell_type": "markdown",
      "metadata": {
        "id": "Q27wFRTw7lD2"
      },
      "source": [
        ""
      ]
    },
    {
      "cell_type": "code",
      "metadata": {
        "colab": {
          "base_uri": "https://localhost:8080/"
        },
        "id": "MPdWeRX27ljO",
        "outputId": "549ade0f-2eae-4d47-8e6f-513415406469"
      },
      "source": [
        ""
      ],
      "execution_count": null,
      "outputs": [
        {
          "output_type": "stream",
          "text": [
            "1\n",
            "2.1\n",
            "27\n",
            "Marielle Franco\n",
            "Leo\n",
            "Hello World!\n",
            "<class 'int'>\n",
            "<class 'float'>\n",
            "<class 'int'>\n",
            "<class 'str'>\n",
            "<class 'str'>\n",
            "<class 'str'>\n"
          ],
          "name": "stdout"
        }
      ]
    },
    {
      "cell_type": "markdown",
      "metadata": {
        "id": "cB7xweHVBp2o"
      },
      "source": [
        "3.1 - Tipos de operadores\n",
        " - 3.1.1 - Operadores aritméticos\n",
        "      - '+' (Adição ou sinal positivo) = Realiza a soma entre operandos - Adiciona o sinal de positivo ao número\n",
        "      - '-' (Subtração ou sinal negativo) = Realiza a subtração entre operandos - Adiciona o sinal de negativo ao número\n",
        "      - '*' (Multiplicação) = Realiza a multiplicação entre operandos\n",
        "      - '/' (Divisão) = Realiza a divisão entre operandos\n",
        "      - '//' (Divisão inteira) = Realiza a divisão entre operandos e a parte decimal do resultado\n",
        "      - '%' (Módulo) = Retorna o resto da divisão entre operandos\n",
        "      - '**' (Exponenciação) = Retorna um número elevado a potência de outro"
      ]
    },
    {
      "cell_type": "code",
      "metadata": {
        "colab": {
          "base_uri": "https://localhost:8080/"
        },
        "id": "aySVhaigBzJV",
        "outputId": "714930ae-ea3c-4ed7-a21d-9fd0d602a7bb"
      },
      "source": [
        "print(10 + 7 +4)    # Soma\n",
        "print(10 - 7 -4)    # Subtração\n",
        "print(3 * 4)        # Multiplicação\n",
        "print(10 / 5)       # Divisão entre operandos\n",
        "print(10 // 6)      # Divisão entre operandos e a parte decimal do resultado\n",
        "print(4 % 2)        # Resto da divisão entre operandos\n",
        "print(4 ** 2)       # Exponenciação\n",
        "\n",
        "\n",
        "\n"
      ],
      "execution_count": null,
      "outputs": [
        {
          "output_type": "stream",
          "text": [
            "21\n",
            "-1\n",
            "12\n",
            "2.0\n",
            "1\n",
            "0\n",
            "16\n"
          ],
          "name": "stdout"
        }
      ]
    },
    {
      "cell_type": "code",
      "metadata": {
        "colab": {
          "base_uri": "https://localhost:8080/"
        },
        "id": "XWQwuhQlmuuX",
        "outputId": "3f334b04-cbbe-4ee1-a931-efb5c2feaa47"
      },
      "source": [
        "# Aritmética declarando variáveis\n",
        "\n",
        "x = 10\n",
        "y = 7\n",
        "z = 4\n",
        "soma = x + y + z\n",
        "subtracao = x - y - z\n",
        "multiplicacao = x * y\n",
        "divisao_int = x / z\n",
        "divisao_dec = x // z\n",
        "divisao_resto = x % z\n",
        "exponenciacao = x ** z\n",
        "\n",
        "print(soma)\n",
        "print(subtracao)\n",
        "print(multiplicacao)\n",
        "print(divisao_int)\n",
        "print(divisao_dec)\n",
        "print(divisao_resto)\n",
        "print(exponenciacao)"
      ],
      "execution_count": null,
      "outputs": [
        {
          "output_type": "stream",
          "text": [
            "21\n",
            "-1\n",
            "70\n",
            "2.5\n",
            "2\n",
            "2\n",
            "10000\n"
          ],
          "name": "stdout"
        }
      ]
    },
    {
      "cell_type": "markdown",
      "metadata": {
        "id": "6q9bD-yDFxGg"
      },
      "source": [
        "3.1.2 \n",
        "- Operadores de atribuição\n",
        "  -  = equivale a x = 1\n",
        "  - += equivale a x = x + 1\n",
        "  - -= equivale a x = x - 1\n",
        "  - *= equivale a x = x * 1\n",
        "  - /= equivale a x = x / 1\n",
        "  - //= equivale a x = x // 1\n",
        "  - %= equivale a x = x % 1"
      ]
    },
    {
      "cell_type": "code",
      "metadata": {
        "colab": {
          "base_uri": "https://localhost:8080/"
        },
        "id": "-FjWAdbeFyne",
        "outputId": "dda23a27-3c3e-4295-a662-a2a40f2a9f1c"
      },
      "source": [
        "a = 10\n",
        "print(a)\n",
        "\n",
        "b = 20\n",
        "b += 2     # b = b + 2\n",
        "print(a)\n",
        "\n",
        "\n",
        "c = 30\n",
        "c -= 2     # c = c - 2\n",
        "print(b)\n",
        "\n",
        "d = 40\n",
        "d *= 2     # c = c * 2\n",
        "print(c)\n",
        "\n",
        "e = 50\n",
        "e /= 2     # e = e / 2\n",
        "print(d)\n",
        "\n",
        "f = 60\n",
        "f //= 2    # f = f // 2\n",
        "print(f)\n",
        "\n",
        "g = 70\n",
        "g %= 2     # g = g % 2\n",
        "print(g)\n"
      ],
      "execution_count": null,
      "outputs": [
        {
          "output_type": "stream",
          "text": [
            "10\n",
            "10\n",
            "22\n",
            "28\n",
            "80\n",
            "30\n",
            "0\n",
            "11\n"
          ],
          "name": "stdout"
        }
      ]
    },
    {
      "cell_type": "markdown",
      "metadata": {
        "id": "Nx6TNPCIjgdv"
      },
      "source": [
        "3.1.3 \n",
        "- Operadores de comparação\n",
        "  - '>' ,verifica se um valor é maior que outro\tx > 5\n",
        "  - < ,verifica se um valor é menor que outro\tx < 5\n",
        "  - == ,verifica se um valor é igual a outro\tx == 5\n",
        "  - != ,verifica se um valor é diferente de outro\tx != 5\n",
        "  - '>=' ,verifica se um valor é maior ou igual a outro\tx >= 5 \n",
        "  - <= ,verifica se um valor é menor ou igual a outro\tx <= 5\n"
      ]
    },
    {
      "cell_type": "code",
      "metadata": {
        "colab": {
          "base_uri": "https://localhost:8080/"
        },
        "id": "rPUkJShBjiyx",
        "outputId": "cc2ed70f-83cf-460f-ddea-f16c5985d988"
      },
      "source": [
        "a = 10\n",
        "b = 20\n",
        "\n",
        "c = a > b\n",
        "print(c)\n",
        "\n",
        "a = 20\n",
        "b = 10\n",
        "\n",
        "c = a > b\n",
        "print(c)"
      ],
      "execution_count": null,
      "outputs": [
        {
          "output_type": "stream",
          "text": [
            "False\n",
            "True\n"
          ],
          "name": "stdout"
        }
      ]
    },
    {
      "cell_type": "code",
      "metadata": {
        "colab": {
          "base_uri": "https://localhost:8080/"
        },
        "id": "NYFn-eLfm1Nj",
        "outputId": "93b7639d-6885-4f5d-b3ba-e50e8925eac9"
      },
      "source": [
        "a = 10\n",
        "b = 20\n",
        "\n",
        "c = a < b\n",
        "print(c)\n",
        "\n",
        "c = a == b\n",
        "print(c)\n",
        "\n",
        "c = a != b\n",
        "print(c)\n",
        "\n",
        "c = a >= b\n",
        "print(c)\n",
        "\n",
        "c = a <= b\n",
        "print(c)"
      ],
      "execution_count": null,
      "outputs": [
        {
          "output_type": "stream",
          "text": [
            "True\n",
            "False\n",
            "True\n",
            "False\n",
            "True\n"
          ],
          "name": "stdout"
        }
      ]
    },
    {
      "cell_type": "markdown",
      "metadata": {
        "id": "31LnwDThoQyF"
      },
      "source": [
        "3.1.4 \n",
        "- Operadores lógicos\n",
        "  - and ,retorna True se todas as condições forem verdadeiras, caso contrário retorna False\n",
        "  - or ,retorna True se uma das condições for verdadeiras, caso contrário retorna False\n",
        "  - not ,inverte o resultado: se o resultado da expressão for True, o operador retorna false"
      ]
    },
    {
      "cell_type": "code",
      "metadata": {
        "colab": {
          "base_uri": "https://localhost:8080/"
        },
        "id": "l0mXeCn4omhw",
        "outputId": "a253d7da-5815-45de-c5e8-5555d1aeac5b"
      },
      "source": [
        "a = 10\n",
        "b = 20\n",
        "\n",
        "c = a < b and 2 == 4\n",
        "print(c)\n",
        "\n",
        "c = a > b or a < b\n",
        "print(c)\n",
        "\n",
        "c = not(a > b or a < b)\n",
        "print(c)"
      ],
      "execution_count": null,
      "outputs": [
        {
          "output_type": "stream",
          "text": [
            "False\n",
            "True\n",
            "False\n"
          ],
          "name": "stdout"
        }
      ]
    },
    {
      "cell_type": "markdown",
      "metadata": {
        "id": "Qifdk4nJyWS1"
      },
      "source": [
        "3.1.5\n",
        "- Operadores de identidade\n",
        "  - is ,retorna True se as variáveis comparadas forem o mesmo objeto\n",
        "  - is ,not\tRetorna True se as variáveis comparadas não forem o mesmo objeto"
      ]
    },
    {
      "cell_type": "code",
      "metadata": {
        "colab": {
          "base_uri": "https://localhost:8080/"
        },
        "id": "OuvP9IQnyeS_",
        "outputId": "5f7f8cf3-7278-4075-af6a-d3d288946e96"
      },
      "source": [
        "a = 10\n",
        "b = 20\n",
        "c = a is b\n",
        "print(c)\n",
        "\n",
        "print(type(a) is int)\n",
        "print(type(b) is bool)"
      ],
      "execution_count": null,
      "outputs": [
        {
          "output_type": "stream",
          "text": [
            "False\n",
            "True\n",
            "False\n"
          ],
          "name": "stdout"
        }
      ]
    },
    {
      "cell_type": "markdown",
      "metadata": {
        "id": "5fNQuD4dctXI"
      },
      "source": [
        "\n",
        "      \n",
        "\n",
        "\n",
        "\n",
        "  3.1.6\n",
        "     \n",
        "  - Operadores de associação\n",
        "    - in ,retorna True caso o valor seja encontrado na sequência\n",
        "    - not in ,retorna True caso o valor não seja encontrado na sequência\n",
        "      "
      ]
    },
    {
      "cell_type": "code",
      "metadata": {
        "id": "FTdc4R_Wcs6f"
      },
      "source": [
        "frutas = [\"banana\",\"laranja\",\"uva\",\"ameixa\"]\n",
        "\n",
        "fruta_1 = \"ameixa\"\n",
        "fruta_2 = \"melancia\"\n",
        "\n",
        "print(fruta_1 in frutas) # True\n",
        "print(fruta_2 in frutas) # False"
      ],
      "execution_count": null,
      "outputs": []
    }
  ]
}